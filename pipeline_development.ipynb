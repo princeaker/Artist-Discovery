{
 "cells": [
  {
   "cell_type": "code",
   "execution_count": 1,
   "metadata": {},
   "outputs": [],
   "source": [
    "import requests\n",
    "import boto3\n",
    "import os\n",
    "from dotenv import load_dotenv\n",
    "import base64\n",
    "import json\n",
    "import datetime\n",
    "import jwt\n",
    "import pandas as pd\n",
    "import pyarrow as pa\n",
    "import logging\n",
    "import pyarrow.parquet as pq\n",
    "from io import BytesIO"
   ]
  },
  {
   "cell_type": "code",
   "execution_count": null,
   "metadata": {},
   "outputs": [],
   "source": [
    "load_dotenv()"
   ]
  },
  {
   "cell_type": "code",
   "execution_count": 10,
   "metadata": {},
   "outputs": [],
   "source": [
    "kID = os.getenv(\"KID\") #unique identifier associated with private keys used for signing and authentication in apple developer ecosystem\n",
    "#needed for access to the authkey file obtained from apple developer account\n",
    "#this file is used to sign the JWT token\n",
    "iss = os.getenv(\"ISS\")"
   ]
  },
  {
   "cell_type": "code",
   "execution_count": 11,
   "metadata": {},
   "outputs": [],
   "source": [
    "header = {\n",
    "    \"alg\": \"ES256\",\n",
    "    \"kid\": kID\n",
    "}"
   ]
  },
  {
   "cell_type": "code",
   "execution_count": 22,
   "metadata": {},
   "outputs": [],
   "source": [
    "with open(f'keys/AuthKey_{kID}.p8', 'rb') as f:\n",
    "    private_key = f.read()"
   ]
  },
  {
   "cell_type": "code",
   "execution_count": 26,
   "metadata": {},
   "outputs": [],
   "source": [
    "claims = {\n",
    "    \"iss\": iss,  # Issuer of the token - unique identifier for developer account obtained from apple's website\n",
    "    \"exp\": datetime.datetime.now(datetime.timezone.utc) + datetime.timedelta(hours=24), # Expiration time\n",
    "    \"iat\": datetime.datetime.now(datetime.timezone.utc), # Issued at time\n",
    "\n",
    "}"
   ]
  },
  {
   "cell_type": "code",
   "execution_count": 27,
   "metadata": {},
   "outputs": [],
   "source": [
    "encoded_jwt = jwt.encode(claims, private_key, algorithm='ES256', headers=header)"
   ]
  },
  {
   "cell_type": "code",
   "execution_count": 28,
   "metadata": {},
   "outputs": [],
   "source": [
    "response = requests.get('https://api.music.apple.com/v1/test',\n",
    "                             headers = {\"Authorization\": f\"Bearer  {encoded_jwt}\"})"
   ]
  },
  {
   "cell_type": "code",
   "execution_count": null,
   "metadata": {},
   "outputs": [],
   "source": [
    "response"
   ]
  },
  {
   "cell_type": "code",
   "execution_count": 12,
   "metadata": {},
   "outputs": [],
   "source": [
    "storefront = 'us'\n",
    "genre_id = '1765343179'"
   ]
  },
  {
   "cell_type": "code",
   "execution_count": 13,
   "metadata": {},
   "outputs": [],
   "source": [
    "response = requests.get('https://api.music.apple.com/v1/catalog/us/genres/14',\n",
    "                             headers = {\"Authorization\": f\"Bearer  {encoded_jwt}\"})"
   ]
  },
  {
   "cell_type": "code",
   "execution_count": null,
   "metadata": {},
   "outputs": [],
   "source": [
    "response.json()"
   ]
  },
  {
   "cell_type": "code",
   "execution_count": 15,
   "metadata": {},
   "outputs": [],
   "source": [
    "type = 'albums'"
   ]
  },
  {
   "cell_type": "code",
   "execution_count": 16,
   "metadata": {},
   "outputs": [],
   "source": [
    "chart_response = requests.get(f'https://api.music.apple.com/v1/catalog/{storefront}/charts?types={type}&chart=most-played',\n",
    "                              headers = {\"Authorization\": f\"Bearer  {encoded_jwt}\"})"
   ]
  },
  {
   "cell_type": "code",
   "execution_count": null,
   "metadata": {},
   "outputs": [],
   "source": [
    "chart_response.json()['results']['albums'][0]"
   ]
  },
  {
   "cell_type": "code",
   "execution_count": null,
   "metadata": {},
   "outputs": [],
   "source": [
    "for i in chart_response.json()['results']['albums'][0]:\n",
    "    print(i)"
   ]
  },
  {
   "cell_type": "code",
   "execution_count": null,
   "metadata": {},
   "outputs": [],
   "source": [
    "chart_response.json()['results']['albums'][0]['data'][1]"
   ]
  },
  {
   "cell_type": "code",
   "execution_count": null,
   "metadata": {},
   "outputs": [],
   "source": [
    "len(chart_response.json()['results']['albums'][0]['data'])"
   ]
  },
  {
   "cell_type": "code",
   "execution_count": 17,
   "metadata": {},
   "outputs": [],
   "source": [
    "album_list = []"
   ]
  },
  {
   "cell_type": "code",
   "execution_count": 18,
   "metadata": {},
   "outputs": [],
   "source": [
    "for i in range(len(chart_response.json()['results']['albums'][0]['data'])):\n",
    "    album_name = chart_response.json()['results']['albums'][0]['data'][i]['attributes']['name']\n",
    "    album_artist = chart_response.json()['results']['albums'][0]['data'][i]['attributes']['artistName']\n",
    "    release_date = chart_response.json()['results']['albums'][0]['data'][i]['attributes']['releaseDate']\n",
    "    key = i\n",
    "    album_list.append([key, album_name, album_artist, release_date])"
   ]
  },
  {
   "cell_type": "code",
   "execution_count": 19,
   "metadata": {},
   "outputs": [],
   "source": [
    "df = pd.DataFrame(album_list, columns=['key', 'album_name', 'album_artist', 'release_date'])"
   ]
  },
  {
   "cell_type": "code",
   "execution_count": 20,
   "metadata": {},
   "outputs": [],
   "source": [
    "df['ingest_ts'] = datetime.datetime.now()"
   ]
  },
  {
   "cell_type": "code",
   "execution_count": 28,
   "metadata": {},
   "outputs": [],
   "source": [
    "df.to_parquet(f'data/apple_music_{pd.to_datetime('today').date()}.parquet', engine='pyarrow')"
   ]
  },
  {
   "cell_type": "code",
   "execution_count": 24,
   "metadata": {},
   "outputs": [],
   "source": [
    "\n",
    "s3 = boto3.client('s3')\n"
   ]
  },
  {
   "cell_type": "code",
   "execution_count": 30,
   "metadata": {},
   "outputs": [],
   "source": [
    "bucket_name = 'apple-albums'\n",
    "s3.upload_file('data/apple_music_2025-05-09.parquet', Bucket=bucket_name, Key='05-09-2025/apple_music_2025-05-09.parquet')\n"
   ]
  },
  {
   "cell_type": "code",
   "execution_count": null,
   "metadata": {},
   "outputs": [],
   "source": [
    "str(pd.to_datetime('today').date()) +'/'+ os.path.basename('data/apple_music_2025-05-09.parquet')"
   ]
  },
  {
   "cell_type": "code",
   "execution_count": null,
   "metadata": {},
   "outputs": [],
   "source": [
    "def get_jwt_token(key_file_path=None, kID=kID, iss=iss):\n",
    "    header = {\n",
    "        \"alg\": \"ES256\",\n",
    "        \"kid\": kID\n",
    "    }\n",
    "    if key_file_path is None:\n",
    "        key_file_path = os.path.join(os.getcwd(), 'keys')\n",
    "\n",
    "    with open(f'{key_file_path}/AuthKey_{kID}.p8', 'rb') as f:\n",
    "        private_key = f.read()\n",
    "\n",
    "    claims = {\n",
    "        \"iss\": iss,  # Issuer of the token\n",
    "        \"exp\": datetime.datetime.now(datetime.timezone.utc) + datetime.timedelta(hours=24), # Expiration time\n",
    "        \"iat\": datetime.datetime.now(datetime.timezone.utc), # Issued at time\n",
    "\n",
    "    }\n",
    "\n",
    "    encoded_jwt = jwt.encode(claims, private_key, algorithm='ES256', headers=header)\n",
    "    return encoded_jwt"
   ]
  },
  {
   "cell_type": "code",
   "execution_count": null,
   "metadata": {},
   "outputs": [],
   "source": [
    "def get_albums():\n",
    "    storefront = 'us'\n",
    "    type = 'albums'\n",
    "    album_list = []\n",
    "\n",
    "    chart_response = requests.get(f'https://api.music.apple.com/v1/catalog/{storefront}/charts?types={type}&chart=most-played',\n",
    "                                  headers={\"Authorization\": f\"Bearer  {get_jwt_token()}\"})\n",
    "    \n",
    "    for i in range(len(chart_response.json()['results']['albums'][0]['data'])):\n",
    "        album_name = chart_response.json()['results']['albums'][0]['data'][i]['attributes']['name']\n",
    "        album_artist = chart_response.json()['results']['albums'][0]['data'][i]['attributes']['artistName']\n",
    "        release_date = chart_response.json()['results']['albums'][0]['data'][i]['attributes']['releaseDate']\n",
    "        key = i\n",
    "        album_list.append([key, album_name, album_artist, release_date])\n",
    "\n",
    "    df = pd.DataFrame(album_list, columns=['key', 'album_name', 'album_artist', 'release_date'])\n",
    "    df['ingest_ts'] = datetime.datetime.now()\n",
    "\n",
    "    return df"
   ]
  },
  {
   "cell_type": "code",
   "execution_count": 146,
   "metadata": {},
   "outputs": [],
   "source": [
    "def upload_df_to_s3_parquet(df, bucket_name, file_path=None):\n",
    "    \"\"\"Upload a file to an S3 bucket\n",
    "\n",
    "    :param file_name: File to upload\n",
    "    :param bucket: Bucket to upload to\n",
    "    :param object_name: S3 object name. If not specified then file_name is used\n",
    "    :return: True if file was uploaded, else False\n",
    "    \"\"\"\n",
    "\n",
    "    # If S3 object_name was not specified, use file_name\n",
    "    buffer = BytesIO()\n",
    "\n",
    "    table = pa.Table.from_pandas(df)\n",
    "    pq.write_table(table, buffer)\n",
    "    buffer.seek(0)\n",
    "\n",
    "    if file_path is None:\n",
    "        file_path = str('silver/apple-albums/' + pd.to_datetime('today').date()) + '/albums_' + str(pd.to_datetime('today').date()) + '.parquet' \n",
    "\n",
    "    # Upload the file\n",
    "    s3_client = boto3.client('s3')\n",
    "    try:\n",
    "        response = s3_client.upload_fileobj(buffer, bucket_name, file_path)\n",
    "    except Exception as e:\n",
    "        logging.error(f\"Failed to upload {file_path} to {bucket_name}/{file_path}\")\n",
    "        raise e\n",
    "    \n",
    "    return True"
   ]
  },
  {
   "cell_type": "code",
   "execution_count": 4,
   "metadata": {},
   "outputs": [],
   "source": [
    "s3 = boto3.client('s3')\n",
    "df = pd.read_parquet('s3://apple-albums/2025-06-09/albums_2025-06-09.parquet', engine='pyarrow')"
   ]
  },
  {
   "cell_type": "code",
   "execution_count": null,
   "metadata": {},
   "outputs": [],
   "source": [
    "df.head()"
   ]
  },
  {
   "cell_type": "code",
   "execution_count": null,
   "metadata": {},
   "outputs": [],
   "source": [
    "df.shape"
   ]
  },
  {
   "cell_type": "code",
   "execution_count": null,
   "metadata": {},
   "outputs": [],
   "source": [
    "df"
   ]
  },
  {
   "cell_type": "code",
   "execution_count": 33,
   "metadata": {},
   "outputs": [],
   "source": [
    "storefront = 'us'\n",
    "type = 'albums'"
   ]
  },
  {
   "cell_type": "code",
   "execution_count": 34,
   "metadata": {},
   "outputs": [],
   "source": [
    "chart_response = requests.get(f'https://api.music.apple.com/v1/catalog/us/charts?types={type}&chart=most-played',\n",
    "                                  headers={\"Authorization\": f\"Bearer  {encoded_jwt}\"})"
   ]
  },
  {
   "cell_type": "code",
   "execution_count": null,
   "metadata": {},
   "outputs": [],
   "source": [
    "chart_response.json()['results']"
   ]
  },
  {
   "cell_type": "code",
   "execution_count": 43,
   "metadata": {},
   "outputs": [],
   "source": [
    "new_chart_response = requests.get(f'https://api.music.apple.com/v1/catalog/us/charts?types={type}',\n",
    "                                  headers={\"Authorization\": f\"Bearer  {encoded_jwt}\"})"
   ]
  },
  {
   "cell_type": "code",
   "execution_count": null,
   "metadata": {},
   "outputs": [],
   "source": [
    "chart_response.json()['results']['albums'][0]"
   ]
  },
  {
   "cell_type": "code",
   "execution_count": 5,
   "metadata": {},
   "outputs": [],
   "source": [
    "sg_response = session.get('https://api.seatgeek.com/2/events', params={'venue.city': 'Austin', 'per_page': 5, 'page': 1})"
   ]
  },
  {
   "cell_type": "code",
   "execution_count": 3,
   "metadata": {},
   "outputs": [],
   "source": [
    "def get_s3_object(bucket_name, key):\n",
    "    \"\"\"Retrieve an object from S3 bucket.\"\"\"\n",
    "    s3_client = boto3.client('s3', region_name='us-east-2')\n",
    "    try:\n",
    "        response = s3_client.get_object(Bucket=bucket_name, Key=key)\n",
    "        return response['Body'].read()\n",
    "    except Exception as e:\n",
    "        logging.error(f\"Failed to retrieve {key} from {bucket_name}: {e}\")\n",
    "        return None"
   ]
  },
  {
   "cell_type": "code",
   "execution_count": null,
   "metadata": {},
   "outputs": [],
   "source": [
    " file = get_s3_object(bucket_name='artist-discovery-data', key='silver/apple-albums/albums_2025-06-16.parquet')\n"
   ]
  },
  {
   "cell_type": "code",
   "execution_count": 159,
   "metadata": {},
   "outputs": [],
   "source": [
    "df = pd.read_parquet(BytesIO(file), engine='pyarrow')"
   ]
  },
  {
   "cell_type": "code",
   "execution_count": null,
   "metadata": {},
   "outputs": [],
   "source": [
    "df.head(20)"
   ]
  },
  {
   "cell_type": "code",
   "execution_count": null,
   "metadata": {},
   "outputs": [],
   "source": [
    "df['album_artist'].tolist()"
   ]
  },
  {
   "cell_type": "code",
   "execution_count": null,
   "metadata": {},
   "outputs": [],
   "source": [
    "def clean_artist_names(df):\n",
    "    \"\"\"Clean artist names by removing leading/trailing whitespace and splitting on '&'.\"\"\"\n",
    "    df['album_artist_clean'] = df['album_artist'].str.split('&', expand=True)[0]\n",
    "    df['album_artist_clean'] = df['album_artist_clean'].str.strip()\n",
    "    return df\n"
   ]
  },
  {
   "cell_type": "code",
   "execution_count": null,
   "metadata": {},
   "outputs": [],
   "source": [
    "clean_artist_names(df)"
   ]
  },
  {
   "cell_type": "code",
   "execution_count": 33,
   "metadata": {},
   "outputs": [],
   "source": [
    "session = requests.Session()\n",
    "session.auth = (os.getenv('SEATGEEK_CLIENT_ID'), os.getenv('SEATGEEK_CLIENT_SECRET'))"
   ]
  },
  {
   "cell_type": "code",
   "execution_count": 110,
   "metadata": {},
   "outputs": [],
   "source": [
    "sg_response = session.get('https://api.seatgeek.com/2/performers', params={'q': 'Fuerza Regida', 'per_page': 5, 'page': 1})"
   ]
  },
  {
   "cell_type": "code",
   "execution_count": 132,
   "metadata": {},
   "outputs": [],
   "source": [
    "def remove_nan_from_list(input_list):\n",
    "       return [x for x in input_list if pd.notna(x)]"
   ]
  },
  {
   "cell_type": "code",
   "execution_count": null,
   "metadata": {},
   "outputs": [],
   "source": [
    "df.head(20)"
   ]
  },
  {
   "cell_type": "code",
   "execution_count": 40,
   "metadata": {},
   "outputs": [],
   "source": [
    "def get_artist_id(name=None, session=None):\n",
    "    \"\"\"Get the artist ID from SeatGeek\"\"\"\n",
    "    if name is None:\n",
    "        return None \n",
    "    \n",
    "    response = session.get('https://api.seatgeek.com/2/performers', params={'q': name, 'per_page': 5, 'page': 1})\n",
    "    return response.json()['performers'][0]['id'] if response.json()['performers'] else None"
   ]
  },
  {
   "cell_type": "code",
   "execution_count": null,
   "metadata": {},
   "outputs": [],
   "source": []
  },
  {
   "cell_type": "code",
   "execution_count": 165,
   "metadata": {},
   "outputs": [],
   "source": [
    "response = session.get('https://api.seatgeek.com/2/performers', params={'q': 'Lin-Manuel Miranda, Leslie Odom', 'per_page': 5, 'page': 1})\n"
   ]
  },
  {
   "cell_type": "code",
   "execution_count": null,
   "metadata": {},
   "outputs": [],
   "source": [
    "len(response.json()['performers'])"
   ]
  },
  {
   "cell_type": "code",
   "execution_count": null,
   "metadata": {},
   "outputs": [],
   "source": [
    "\n",
    "def transform_create_sg_data(df: pd.DataFrame):\n",
    "    \"\"\"This function transforms the input DataFrame by cleaning artist names \n",
    "    and fetching artist IDs and creates a new dataset with upcoming events from SeatGeek.\"\"\"\n",
    "\n",
    "    artist_df = clean_artist_names(df)\n",
    "    with requests.Session() as session:\n",
    "        session.auth = (os.getenv('SEATGEEK_CLIENT_ID'), os.getenv('SEATGEEK_CLIENT_SECRET'))\n",
    "        df['artist_sg_index'] = df[['album_artist_clean']].apply(lambda x: get_artist_id(name=x, session=session), axis=1)\n",
    "        df['artist_sg_index'] = df['artist_sg_index'].astype('Int64')\n",
    "        df['ingest_ts'] = datetime.datetime.now()\n",
    "\n",
    "        artist_id_list = remove_nan_from_list(df['artist_sg_index'].unique().tolist())\n",
    "\n",
    "        artist_events_list = []\n",
    "        for i in artist_id_list:\n",
    "            artist_events_list.append(get_upcoming_events(artist_id=i, session=session))\n",
    "\n",
    "\n",
    "    artist_events_df = pd.concat(artist_events_list, ignore_index=True)\n",
    "    artist_events_df['ingest_ts'] = datetime.datetime.now()\n",
    "    return [artist_df, artist_events_df]\n",
    "        \n",
    "    \n",
    "\n",
    "    \n",
    "    "
   ]
  },
  {
   "cell_type": "code",
   "execution_count": null,
   "metadata": {},
   "outputs": [],
   "source": [
    "df1, df2 = transform_create_sg_data(df)"
   ]
  },
  {
   "cell_type": "code",
   "execution_count": null,
   "metadata": {},
   "outputs": [],
   "source": [
    "ssm_client = boto3.client('ssm', region_name='us-east-2')\n",
    "sg_key = ssm_client.get_parameter(\n",
    "        Name='/seatgeek/client_key',\n",
    "        WithDecryption=True\n",
    "    )['Parameter']['Value']"
   ]
  },
  {
   "cell_type": "code",
   "execution_count": 179,
   "metadata": {},
   "outputs": [],
   "source": [
    "sg_secret = ssm_client.get_parameter(\n",
    "        Name='/seatgeek/client_secret',\n",
    "        WithDecryption=True\n",
    "    )['Parameter']['Value']"
   ]
  },
  {
   "cell_type": "code",
   "execution_count": 177,
   "metadata": {},
   "outputs": [],
   "source": [
    "key = os.getenv('SEATGEEK_CLIENT_ID')\n",
    "client = os.getenv('SEATGEEK_CLIENT_SECRET')"
   ]
  },
  {
   "cell_type": "code",
   "execution_count": null,
   "metadata": {},
   "outputs": [],
   "source": [
    "print(f\"key: {key} , secret: {client}\")"
   ]
  },
  {
   "cell_type": "code",
   "execution_count": null,
   "metadata": {},
   "outputs": [],
   "source": [
    "sg_secret"
   ]
  },
  {
   "cell_type": "code",
   "execution_count": 72,
   "metadata": {},
   "outputs": [],
   "source": [
    "sg_response = session.get('https://api.seatgeek.com/2/events', params={'performers.id':774960, 'per_page': 5, 'page': 1})"
   ]
  },
  {
   "cell_type": "code",
   "execution_count": null,
   "metadata": {},
   "outputs": [],
   "source": [
    "sg_response = session.get('https://api.seatgeek.com/2/performers/774960')"
   ]
  },
  {
   "cell_type": "code",
   "execution_count": null,
   "metadata": {},
   "outputs": [],
   "source": [
    "for i in sg_response.json()['events']:\n",
    "    print(i)"
   ]
  },
  {
   "cell_type": "code",
   "execution_count": null,
   "metadata": {},
   "outputs": [],
   "source": [
    "sg_response.json()['events'][1]"
   ]
  },
  {
   "cell_type": "code",
   "execution_count": null,
   "metadata": {},
   "outputs": [],
   "source": [
    "sg_response.json()['events'][1]['datetime_local']"
   ]
  },
  {
   "cell_type": "code",
   "execution_count": null,
   "metadata": {},
   "outputs": [],
   "source": [
    "dateobj = datetime.datetime.fromisoformat(sg_response.json()['events'][1]['datetime_local']) - datetime.datetime.now()\n",
    "dateobj < datetime.timedelta(days=30)"
   ]
  },
  {
   "cell_type": "code",
   "execution_count": null,
   "metadata": {},
   "outputs": [],
   "source": [
    "\n",
    "# convert to string\n",
    "date_time_str = datetime.datetime.fromisoformat(sg_response.json()['events'][1]['datetime_local']).strftime(\"%Y-%m-%d %H:%M:%S\")\n",
    "print('DateTime String:', date_time_str)\n",
    "\n",
    "# Output 2021-07-20 16:26:24"
   ]
  },
  {
   "cell_type": "code",
   "execution_count": null,
   "metadata": {},
   "outputs": [],
   "source": []
  },
  {
   "cell_type": "code",
   "execution_count": null,
   "metadata": {},
   "outputs": [],
   "source": [
    "def get_upcoming_events(artist_id, session=None):\n",
    "    \"\"\"Get upcoming events for a given artist ID.\"\"\"\n",
    "    if session is None:\n",
    "        return None\n",
    "    \n",
    "    response = session.get('https://api.seatgeek.com/2/events', params={'performers.id': artist_id, 'per_page': 5, 'page': 1})\n",
    "    events = response.json()['events']\n",
    "    \n",
    "    upcoming_events = []\n",
    "    for event in events:\n",
    "        event_date_time = datetime.datetime.fromisoformat(event['datetime_local'])\n",
    "        if event_date_time > datetime.datetime.now() and (event_date_time - datetime.datetime.now()) < datetime.timedelta(days=30):\n",
    "            upcoming_events.append({\n",
    "                'event_id': event['id'],\n",
    "                'artist_id': artist_id,\n",
    "                'event_name': event['title'],\n",
    "                'event_date_time': event_date_time,\n",
    "                'venue_name': event['venue']['name'],\n",
    "                'venue_city': event['venue']['city'],\n",
    "                'venue_state': event['venue']['state'],\n",
    "                'venue_type': event['type']\n",
    "            })\n",
    "\n",
    "    try:\n",
    "        if upcoming_events:\n",
    "            logging.info(f\"Found {len(upcoming_events)} upcoming events for artist ID {artist_id}.\")\n",
    "            df = pd.DataFrame(upcoming_events)\n",
    "            df['event_date'] = df['event_date_time'].dt.date\n",
    "            return df\n",
    "        else:\n",
    "            logging.warning(\"No upcoming events found for the artist in the next 30 days.\")\n",
    "\n",
    "    except Exception as e:\n",
    "        logging.error(\"Failed to create DataFrame from upcoming events.\")\n",
    "        raise e\n",
    "        \n",
    "            \n"
   ]
  },
  {
   "cell_type": "code",
   "execution_count": null,
   "metadata": {},
   "outputs": [],
   "source": [
    "get_upcoming_events(artist_id=616548, session=session)"
   ]
  },
  {
   "cell_type": "code",
   "execution_count": null,
   "metadata": {},
   "outputs": [],
   "source": [
    "test = get_upcoming_events(artist_id=774960, session=session)"
   ]
  },
  {
   "cell_type": "code",
   "execution_count": null,
   "metadata": {},
   "outputs": [],
   "source": [
    "df=pd.DataFrame()\n",
    "pd.concat([df,test])"
   ]
  },
  {
   "cell_type": "code",
   "execution_count": null,
   "metadata": {},
   "outputs": [],
   "source": [
    "artist_df, artist_events_df = transform_create_sg_data(df)"
   ]
  },
  {
   "cell_type": "code",
   "execution_count": null,
   "metadata": {},
   "outputs": [],
   "source": [
    "bucket_name = 'artist-discovery-data'\n",
    "artist_df_file_path = 'silver/apple-albums-enriched/' + str(pd.to_datetime('today').date()) + '/albums_enriched' + str(pd.to_datetime('today').date()) + '.parquet'"
   ]
  },
  {
   "cell_type": "code",
   "execution_count": null,
   "metadata": {},
   "outputs": [],
   "source": [
    "upload_df_to_s3_parquet(artist_df, bucket_name, file_path=artist_df_file_path)"
   ]
  },
  {
   "cell_type": "code",
   "execution_count": null,
   "metadata": {},
   "outputs": [],
   "source": [
    "import sys\n",
    "print(sys.path)"
   ]
  },
  {
   "cell_type": "code",
   "execution_count": 151,
   "metadata": {},
   "outputs": [],
   "source": [
    "test_file = None"
   ]
  },
  {
   "cell_type": "code",
   "execution_count": 7,
   "metadata": {},
   "outputs": [],
   "source": [
    "bucket_name = 'artist-discovery-data'\n",
    "album_key = 'silver/apple-albums-enriched/albums_enriched_2025-06-17.parquet'\n",
    "album_file = get_s3_object(bucket_name, album_key)"
   ]
  },
  {
   "cell_type": "code",
   "execution_count": 8,
   "metadata": {},
   "outputs": [],
   "source": [
    "events_key = 'silver/artist-events/events_2025-06-17.parquet'\n",
    "events_file = get_s3_object(bucket_name, events_key)"
   ]
  },
  {
   "cell_type": "code",
   "execution_count": 10,
   "metadata": {},
   "outputs": [],
   "source": [
    "album_df = pd.read_parquet(BytesIO(album_file), engine='pyarrow')\n",
    "events_df = pd.read_parquet(BytesIO(events_file), engine='pyarrow')"
   ]
  },
  {
   "cell_type": "code",
   "execution_count": 11,
   "metadata": {},
   "outputs": [
    {
     "data": {
      "text/html": [
       "<div>\n",
       "<style scoped>\n",
       "    .dataframe tbody tr th:only-of-type {\n",
       "        vertical-align: middle;\n",
       "    }\n",
       "\n",
       "    .dataframe tbody tr th {\n",
       "        vertical-align: top;\n",
       "    }\n",
       "\n",
       "    .dataframe thead th {\n",
       "        text-align: right;\n",
       "    }\n",
       "</style>\n",
       "<table border=\"1\" class=\"dataframe\">\n",
       "  <thead>\n",
       "    <tr style=\"text-align: right;\">\n",
       "      <th></th>\n",
       "      <th>key</th>\n",
       "      <th>album_name</th>\n",
       "      <th>album_artist</th>\n",
       "      <th>release_date</th>\n",
       "      <th>ingest_ts</th>\n",
       "      <th>album_artist_clean</th>\n",
       "      <th>artist_sg_index</th>\n",
       "    </tr>\n",
       "  </thead>\n",
       "  <tbody>\n",
       "    <tr>\n",
       "      <th>0</th>\n",
       "      <td>0</td>\n",
       "      <td>I’m The Problem</td>\n",
       "      <td>Morgan Wallen</td>\n",
       "      <td>2025-05-16</td>\n",
       "      <td>2025-06-17 00:08:07.865876</td>\n",
       "      <td>Morgan Wallen</td>\n",
       "      <td>562860</td>\n",
       "    </tr>\n",
       "    <tr>\n",
       "      <th>1</th>\n",
       "      <td>1</td>\n",
       "      <td>DOPAMINE</td>\n",
       "      <td>Lil Tecca</td>\n",
       "      <td>2025-06-13</td>\n",
       "      <td>2025-06-17 00:08:07.865876</td>\n",
       "      <td>Lil Tecca</td>\n",
       "      <td>751467</td>\n",
       "    </tr>\n",
       "    <tr>\n",
       "      <th>2</th>\n",
       "      <td>2</td>\n",
       "      <td>Tha Carter VI (Bonus)</td>\n",
       "      <td>Lil Wayne</td>\n",
       "      <td>2025-06-06</td>\n",
       "      <td>2025-06-17 00:08:07.865876</td>\n",
       "      <td>Lil Wayne</td>\n",
       "      <td>1109</td>\n",
       "    </tr>\n",
       "    <tr>\n",
       "      <th>3</th>\n",
       "      <td>3</td>\n",
       "      <td>My World</td>\n",
       "      <td>EST Gee</td>\n",
       "      <td>2025-06-13</td>\n",
       "      <td>2025-06-17 00:08:07.865876</td>\n",
       "      <td>EST Gee</td>\n",
       "      <td>797677</td>\n",
       "    </tr>\n",
       "    <tr>\n",
       "      <th>4</th>\n",
       "      <td>4</td>\n",
       "      <td>111XPANTIA</td>\n",
       "      <td>Fuerza Regida</td>\n",
       "      <td>2025-05-02</td>\n",
       "      <td>2025-06-17 00:08:07.865876</td>\n",
       "      <td>Fuerza Regida</td>\n",
       "      <td>774960</td>\n",
       "    </tr>\n",
       "  </tbody>\n",
       "</table>\n",
       "</div>"
      ],
      "text/plain": [
       "   key             album_name   album_artist release_date  \\\n",
       "0    0        I’m The Problem  Morgan Wallen   2025-05-16   \n",
       "1    1               DOPAMINE      Lil Tecca   2025-06-13   \n",
       "2    2  Tha Carter VI (Bonus)      Lil Wayne   2025-06-06   \n",
       "3    3               My World        EST Gee   2025-06-13   \n",
       "4    4             111XPANTIA  Fuerza Regida   2025-05-02   \n",
       "\n",
       "                   ingest_ts album_artist_clean  artist_sg_index  \n",
       "0 2025-06-17 00:08:07.865876      Morgan Wallen           562860  \n",
       "1 2025-06-17 00:08:07.865876          Lil Tecca           751467  \n",
       "2 2025-06-17 00:08:07.865876          Lil Wayne             1109  \n",
       "3 2025-06-17 00:08:07.865876            EST Gee           797677  \n",
       "4 2025-06-17 00:08:07.865876      Fuerza Regida           774960  "
      ]
     },
     "execution_count": 11,
     "metadata": {},
     "output_type": "execute_result"
    }
   ],
   "source": [
    "album_df.head()"
   ]
  },
  {
   "cell_type": "code",
   "execution_count": 12,
   "metadata": {},
   "outputs": [
    {
     "data": {
      "text/html": [
       "<div>\n",
       "<style scoped>\n",
       "    .dataframe tbody tr th:only-of-type {\n",
       "        vertical-align: middle;\n",
       "    }\n",
       "\n",
       "    .dataframe tbody tr th {\n",
       "        vertical-align: top;\n",
       "    }\n",
       "\n",
       "    .dataframe thead th {\n",
       "        text-align: right;\n",
       "    }\n",
       "</style>\n",
       "<table border=\"1\" class=\"dataframe\">\n",
       "  <thead>\n",
       "    <tr style=\"text-align: right;\">\n",
       "      <th></th>\n",
       "      <th>event_id</th>\n",
       "      <th>artist_id</th>\n",
       "      <th>event_name</th>\n",
       "      <th>event_date_time</th>\n",
       "      <th>venue_name</th>\n",
       "      <th>venue_city</th>\n",
       "      <th>venue_state</th>\n",
       "      <th>venue_type</th>\n",
       "      <th>event_date</th>\n",
       "      <th>ingest_ts</th>\n",
       "    </tr>\n",
       "  </thead>\n",
       "  <tbody>\n",
       "    <tr>\n",
       "      <th>0</th>\n",
       "      <td>17357211</td>\n",
       "      <td>562860</td>\n",
       "      <td>Morgan Wallen with Corey Kent and Koe Wetzel</td>\n",
       "      <td>2025-06-20 17:30:00</td>\n",
       "      <td>NRG Stadium</td>\n",
       "      <td>Houston</td>\n",
       "      <td>TX</td>\n",
       "      <td>concert</td>\n",
       "      <td>2025-06-20</td>\n",
       "      <td>2025-06-17 00:08:10.206853</td>\n",
       "    </tr>\n",
       "    <tr>\n",
       "      <th>1</th>\n",
       "      <td>17357215</td>\n",
       "      <td>562860</td>\n",
       "      <td>Morgan Wallen with Corey Kent and Koe Wetzel</td>\n",
       "      <td>2025-06-21 17:30:00</td>\n",
       "      <td>NRG Stadium</td>\n",
       "      <td>Houston</td>\n",
       "      <td>TX</td>\n",
       "      <td>concert</td>\n",
       "      <td>2025-06-21</td>\n",
       "      <td>2025-06-17 00:08:10.206853</td>\n",
       "    </tr>\n",
       "    <tr>\n",
       "      <th>2</th>\n",
       "      <td>17357249</td>\n",
       "      <td>562860</td>\n",
       "      <td>Morgan Wallen with Miranda Lambert and Ella La...</td>\n",
       "      <td>2025-06-28 17:30:00</td>\n",
       "      <td>Camp Randall Stadium</td>\n",
       "      <td>Madison</td>\n",
       "      <td>WI</td>\n",
       "      <td>concert</td>\n",
       "      <td>2025-06-28</td>\n",
       "      <td>2025-06-17 00:08:10.206853</td>\n",
       "    </tr>\n",
       "    <tr>\n",
       "      <th>3</th>\n",
       "      <td>17365697</td>\n",
       "      <td>562860</td>\n",
       "      <td>Morgan Wallen with Miranda Lambert and Ella La...</td>\n",
       "      <td>2025-06-29 17:30:00</td>\n",
       "      <td>Camp Randall Stadium</td>\n",
       "      <td>Madison</td>\n",
       "      <td>WI</td>\n",
       "      <td>concert</td>\n",
       "      <td>2025-06-29</td>\n",
       "      <td>2025-06-17 00:08:10.206853</td>\n",
       "    </tr>\n",
       "    <tr>\n",
       "      <th>4</th>\n",
       "      <td>17357217</td>\n",
       "      <td>562860</td>\n",
       "      <td>Morgan Wallen with Miranda Lambert and Gavin A...</td>\n",
       "      <td>2025-07-11 16:30:00</td>\n",
       "      <td>Hard Rock Stadium</td>\n",
       "      <td>Miami Gardens</td>\n",
       "      <td>FL</td>\n",
       "      <td>concert</td>\n",
       "      <td>2025-07-11</td>\n",
       "      <td>2025-06-17 00:08:10.206853</td>\n",
       "    </tr>\n",
       "  </tbody>\n",
       "</table>\n",
       "</div>"
      ],
      "text/plain": [
       "   event_id  artist_id                                         event_name  \\\n",
       "0  17357211     562860       Morgan Wallen with Corey Kent and Koe Wetzel   \n",
       "1  17357215     562860       Morgan Wallen with Corey Kent and Koe Wetzel   \n",
       "2  17357249     562860  Morgan Wallen with Miranda Lambert and Ella La...   \n",
       "3  17365697     562860  Morgan Wallen with Miranda Lambert and Ella La...   \n",
       "4  17357217     562860  Morgan Wallen with Miranda Lambert and Gavin A...   \n",
       "\n",
       "      event_date_time            venue_name     venue_city venue_state  \\\n",
       "0 2025-06-20 17:30:00           NRG Stadium        Houston          TX   \n",
       "1 2025-06-21 17:30:00           NRG Stadium        Houston          TX   \n",
       "2 2025-06-28 17:30:00  Camp Randall Stadium        Madison          WI   \n",
       "3 2025-06-29 17:30:00  Camp Randall Stadium        Madison          WI   \n",
       "4 2025-07-11 16:30:00     Hard Rock Stadium  Miami Gardens          FL   \n",
       "\n",
       "  venue_type  event_date                  ingest_ts  \n",
       "0    concert  2025-06-20 2025-06-17 00:08:10.206853  \n",
       "1    concert  2025-06-21 2025-06-17 00:08:10.206853  \n",
       "2    concert  2025-06-28 2025-06-17 00:08:10.206853  \n",
       "3    concert  2025-06-29 2025-06-17 00:08:10.206853  \n",
       "4    concert  2025-07-11 2025-06-17 00:08:10.206853  "
      ]
     },
     "execution_count": 12,
     "metadata": {},
     "output_type": "execute_result"
    }
   ],
   "source": [
    "events_df.head()"
   ]
  },
  {
   "cell_type": "code",
   "execution_count": 17,
   "metadata": {},
   "outputs": [],
   "source": [
    "album_set = album_df[['album_artist','album_name', 'release_date', 'artist_sg_index']]\n",
    "event_set = events_df[['artist_id', 'event_id', 'event_name', 'event_date_time', 'venue_name', 'venue_city', 'venue_state', 'venue_type']]\n",
    "merged_df = album_set.merge(\n",
    "    event_set,\n",
    "    how='left',\n",
    "    left_on='artist_sg_index',\n",
    "    right_on='artist_id'\n",
    ")\n",
    "\n",
    "def merge_album_events(album_df, events_df):\n",
    "    \"\"\"Merge album DataFrame with events DataFrame on artist_id.\"\"\"\n",
    "    merged_df = album_df.merge(\n",
    "        events_df,\n",
    "        how='left',\n",
    "        left_on='artist_sg_index',\n",
    "        right_on='artist_id'\n",
    "    )\n",
    "    return merged_df\n",
    "\n"
   ]
  },
  {
   "cell_type": "code",
   "execution_count": 15,
   "metadata": {},
   "outputs": [
    {
     "data": {
      "text/html": [
       "<div>\n",
       "<style scoped>\n",
       "    .dataframe tbody tr th:only-of-type {\n",
       "        vertical-align: middle;\n",
       "    }\n",
       "\n",
       "    .dataframe tbody tr th {\n",
       "        vertical-align: top;\n",
       "    }\n",
       "\n",
       "    .dataframe thead th {\n",
       "        text-align: right;\n",
       "    }\n",
       "</style>\n",
       "<table border=\"1\" class=\"dataframe\">\n",
       "  <thead>\n",
       "    <tr style=\"text-align: right;\">\n",
       "      <th></th>\n",
       "      <th>album_artist</th>\n",
       "      <th>album_name</th>\n",
       "      <th>release_date</th>\n",
       "      <th>artist_sg_index</th>\n",
       "      <th>artist_id</th>\n",
       "      <th>event_name</th>\n",
       "      <th>event_date_time</th>\n",
       "      <th>venue_name</th>\n",
       "      <th>venue_city</th>\n",
       "      <th>venue_state</th>\n",
       "      <th>venue_type</th>\n",
       "    </tr>\n",
       "  </thead>\n",
       "  <tbody>\n",
       "    <tr>\n",
       "      <th>0</th>\n",
       "      <td>Morgan Wallen</td>\n",
       "      <td>I’m The Problem</td>\n",
       "      <td>2025-05-16</td>\n",
       "      <td>562860</td>\n",
       "      <td>562860.0</td>\n",
       "      <td>Morgan Wallen with Corey Kent and Koe Wetzel</td>\n",
       "      <td>2025-06-20 17:30:00</td>\n",
       "      <td>NRG Stadium</td>\n",
       "      <td>Houston</td>\n",
       "      <td>TX</td>\n",
       "      <td>concert</td>\n",
       "    </tr>\n",
       "    <tr>\n",
       "      <th>1</th>\n",
       "      <td>Morgan Wallen</td>\n",
       "      <td>I’m The Problem</td>\n",
       "      <td>2025-05-16</td>\n",
       "      <td>562860</td>\n",
       "      <td>562860.0</td>\n",
       "      <td>Morgan Wallen with Corey Kent and Koe Wetzel</td>\n",
       "      <td>2025-06-21 17:30:00</td>\n",
       "      <td>NRG Stadium</td>\n",
       "      <td>Houston</td>\n",
       "      <td>TX</td>\n",
       "      <td>concert</td>\n",
       "    </tr>\n",
       "    <tr>\n",
       "      <th>2</th>\n",
       "      <td>Morgan Wallen</td>\n",
       "      <td>I’m The Problem</td>\n",
       "      <td>2025-05-16</td>\n",
       "      <td>562860</td>\n",
       "      <td>562860.0</td>\n",
       "      <td>Morgan Wallen with Miranda Lambert and Ella La...</td>\n",
       "      <td>2025-06-28 17:30:00</td>\n",
       "      <td>Camp Randall Stadium</td>\n",
       "      <td>Madison</td>\n",
       "      <td>WI</td>\n",
       "      <td>concert</td>\n",
       "    </tr>\n",
       "    <tr>\n",
       "      <th>3</th>\n",
       "      <td>Morgan Wallen</td>\n",
       "      <td>I’m The Problem</td>\n",
       "      <td>2025-05-16</td>\n",
       "      <td>562860</td>\n",
       "      <td>562860.0</td>\n",
       "      <td>Morgan Wallen with Miranda Lambert and Ella La...</td>\n",
       "      <td>2025-06-29 17:30:00</td>\n",
       "      <td>Camp Randall Stadium</td>\n",
       "      <td>Madison</td>\n",
       "      <td>WI</td>\n",
       "      <td>concert</td>\n",
       "    </tr>\n",
       "    <tr>\n",
       "      <th>4</th>\n",
       "      <td>Morgan Wallen</td>\n",
       "      <td>I’m The Problem</td>\n",
       "      <td>2025-05-16</td>\n",
       "      <td>562860</td>\n",
       "      <td>562860.0</td>\n",
       "      <td>Morgan Wallen with Miranda Lambert and Gavin A...</td>\n",
       "      <td>2025-07-11 16:30:00</td>\n",
       "      <td>Hard Rock Stadium</td>\n",
       "      <td>Miami Gardens</td>\n",
       "      <td>FL</td>\n",
       "      <td>concert</td>\n",
       "    </tr>\n",
       "    <tr>\n",
       "      <th>5</th>\n",
       "      <td>Lil Tecca</td>\n",
       "      <td>DOPAMINE</td>\n",
       "      <td>2025-06-13</td>\n",
       "      <td>751467</td>\n",
       "      <td>751467.0</td>\n",
       "      <td>The Summer Smash Music Festival - (3-Day Pass)...</td>\n",
       "      <td>2025-06-20 03:30:00</td>\n",
       "      <td>SeatGeek Stadium</td>\n",
       "      <td>Bridgeview</td>\n",
       "      <td>IL</td>\n",
       "      <td>music_festival</td>\n",
       "    </tr>\n",
       "    <tr>\n",
       "      <th>6</th>\n",
       "      <td>Lil Wayne</td>\n",
       "      <td>Tha Carter VI (Bonus)</td>\n",
       "      <td>2025-06-06</td>\n",
       "      <td>1109</td>\n",
       "      <td>1109.0</td>\n",
       "      <td>Lil Wayne (21+)</td>\n",
       "      <td>2025-06-21 22:30:00</td>\n",
       "      <td>Zouk Nightclub</td>\n",
       "      <td>Las Vegas</td>\n",
       "      <td>NV</td>\n",
       "      <td>concert</td>\n",
       "    </tr>\n",
       "    <tr>\n",
       "      <th>7</th>\n",
       "      <td>Lil Wayne</td>\n",
       "      <td>Tha Carter VI (Bonus)</td>\n",
       "      <td>2025-06-06</td>\n",
       "      <td>1109</td>\n",
       "      <td>1109.0</td>\n",
       "      <td>Lil Wayne (21+)</td>\n",
       "      <td>2025-07-12 22:30:00</td>\n",
       "      <td>Zouk Nightclub</td>\n",
       "      <td>Las Vegas</td>\n",
       "      <td>NV</td>\n",
       "      <td>concert</td>\n",
       "    </tr>\n",
       "    <tr>\n",
       "      <th>8</th>\n",
       "      <td>EST Gee</td>\n",
       "      <td>My World</td>\n",
       "      <td>2025-06-13</td>\n",
       "      <td>797677</td>\n",
       "      <td>797677.0</td>\n",
       "      <td>EST Gee</td>\n",
       "      <td>2025-07-16 19:00:00</td>\n",
       "      <td>Elevation 27</td>\n",
       "      <td>Virginia Beach</td>\n",
       "      <td>VA</td>\n",
       "      <td>concert</td>\n",
       "    </tr>\n",
       "    <tr>\n",
       "      <th>9</th>\n",
       "      <td>Fuerza Regida</td>\n",
       "      <td>111XPANTIA</td>\n",
       "      <td>2025-05-02</td>\n",
       "      <td>774960</td>\n",
       "      <td>774960.0</td>\n",
       "      <td>Fuerza Regida</td>\n",
       "      <td>2025-06-20 20:00:00</td>\n",
       "      <td>Madison Square Garden</td>\n",
       "      <td>New York</td>\n",
       "      <td>NY</td>\n",
       "      <td>concert</td>\n",
       "    </tr>\n",
       "  </tbody>\n",
       "</table>\n",
       "</div>"
      ],
      "text/plain": [
       "    album_artist             album_name release_date  artist_sg_index  \\\n",
       "0  Morgan Wallen        I’m The Problem   2025-05-16           562860   \n",
       "1  Morgan Wallen        I’m The Problem   2025-05-16           562860   \n",
       "2  Morgan Wallen        I’m The Problem   2025-05-16           562860   \n",
       "3  Morgan Wallen        I’m The Problem   2025-05-16           562860   \n",
       "4  Morgan Wallen        I’m The Problem   2025-05-16           562860   \n",
       "5      Lil Tecca               DOPAMINE   2025-06-13           751467   \n",
       "6      Lil Wayne  Tha Carter VI (Bonus)   2025-06-06             1109   \n",
       "7      Lil Wayne  Tha Carter VI (Bonus)   2025-06-06             1109   \n",
       "8        EST Gee               My World   2025-06-13           797677   \n",
       "9  Fuerza Regida             111XPANTIA   2025-05-02           774960   \n",
       "\n",
       "   artist_id                                         event_name  \\\n",
       "0   562860.0       Morgan Wallen with Corey Kent and Koe Wetzel   \n",
       "1   562860.0       Morgan Wallen with Corey Kent and Koe Wetzel   \n",
       "2   562860.0  Morgan Wallen with Miranda Lambert and Ella La...   \n",
       "3   562860.0  Morgan Wallen with Miranda Lambert and Ella La...   \n",
       "4   562860.0  Morgan Wallen with Miranda Lambert and Gavin A...   \n",
       "5   751467.0  The Summer Smash Music Festival - (3-Day Pass)...   \n",
       "6     1109.0                                    Lil Wayne (21+)   \n",
       "7     1109.0                                    Lil Wayne (21+)   \n",
       "8   797677.0                                            EST Gee   \n",
       "9   774960.0                                      Fuerza Regida   \n",
       "\n",
       "      event_date_time             venue_name      venue_city venue_state  \\\n",
       "0 2025-06-20 17:30:00            NRG Stadium         Houston          TX   \n",
       "1 2025-06-21 17:30:00            NRG Stadium         Houston          TX   \n",
       "2 2025-06-28 17:30:00   Camp Randall Stadium         Madison          WI   \n",
       "3 2025-06-29 17:30:00   Camp Randall Stadium         Madison          WI   \n",
       "4 2025-07-11 16:30:00      Hard Rock Stadium   Miami Gardens          FL   \n",
       "5 2025-06-20 03:30:00       SeatGeek Stadium      Bridgeview          IL   \n",
       "6 2025-06-21 22:30:00         Zouk Nightclub       Las Vegas          NV   \n",
       "7 2025-07-12 22:30:00         Zouk Nightclub       Las Vegas          NV   \n",
       "8 2025-07-16 19:00:00           Elevation 27  Virginia Beach          VA   \n",
       "9 2025-06-20 20:00:00  Madison Square Garden        New York          NY   \n",
       "\n",
       "       venue_type  \n",
       "0         concert  \n",
       "1         concert  \n",
       "2         concert  \n",
       "3         concert  \n",
       "4         concert  \n",
       "5  music_festival  \n",
       "6         concert  \n",
       "7         concert  \n",
       "8         concert  \n",
       "9         concert  "
      ]
     },
     "execution_count": 15,
     "metadata": {},
     "output_type": "execute_result"
    }
   ],
   "source": [
    "merged_df.head(10)"
   ]
  },
  {
   "cell_type": "code",
   "execution_count": 18,
   "metadata": {},
   "outputs": [
    {
     "name": "stdout",
     "output_type": "stream",
     "text": [
      "e7b63dd8-e6be-c465-462c-a451ba7e7d14\n"
     ]
    }
   ],
   "source": [
    "import uuid\n",
    "import hashlib\n",
    "\n",
    "def generate_unique_id(field1, field2):\n",
    "    combined_string = str(field1) + str(field2)\n",
    "    hashed_string = hashlib.sha256(combined_string.encode()).hexdigest()\n",
    "    return uuid.UUID(hashed_string[:32])\n",
    "\n",
    "# Example usage\n",
    "field1 = \"value1\"\n",
    "field2 = 123\n",
    "unique_id = generate_unique_id(field1, field2)\n",
    "print(unique_id)"
   ]
  },
  {
   "cell_type": "code",
   "execution_count": 24,
   "metadata": {},
   "outputs": [],
   "source": [
    "merged_df['id'] = merged_df[['artist_sg_index','event_id']].apply(lambda x: generate_unique_id(x.iloc[0], x.iloc[1]), axis=1)"
   ]
  },
  {
   "cell_type": "code",
   "execution_count": 28,
   "metadata": {},
   "outputs": [],
   "source": [
    "merged_df = merged_df.filter(items=['id','album_artist','album_name','release_date','event_name','event_date_time','venue_name','venue_city','venue_state'])"
   ]
  },
  {
   "cell_type": "code",
   "execution_count": 31,
   "metadata": {},
   "outputs": [
    {
     "name": "stdout",
     "output_type": "stream",
     "text": [
      "analytics/upcoming-events/date=2025-06-19/upcoming_events.parquet\n"
     ]
    }
   ],
   "source": [
    "upcoming_events_file_path = 'analytics/upcoming-events/date=' + str(pd.to_datetime('today').date()) + '/upcoming_events.parquet'\n",
    "print(upcoming_events_file_path)"
   ]
  }
 ],
 "metadata": {
  "kernelspec": {
   "display_name": "Python 3",
   "language": "python",
   "name": "python3"
  },
  "language_info": {
   "codemirror_mode": {
    "name": "ipython",
    "version": 3
   },
   "file_extension": ".py",
   "mimetype": "text/x-python",
   "name": "python",
   "nbconvert_exporter": "python",
   "pygments_lexer": "ipython3",
   "version": "3.12.10"
  }
 },
 "nbformat": 4,
 "nbformat_minor": 2
}
